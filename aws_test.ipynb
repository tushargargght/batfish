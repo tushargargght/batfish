{
 "cells": [
  {
   "cell_type": "code",
   "execution_count": 1,
   "id": "8e16e8f3",
   "metadata": {},
   "outputs": [],
   "source": [
    "%run setup.py"
   ]
  },
  {
   "cell_type": "code",
   "execution_count": 2,
   "id": "d0af6dcf",
   "metadata": {},
   "outputs": [],
   "source": [
    "load_questions()"
   ]
  },
  {
   "cell_type": "code",
   "execution_count": 3,
   "id": "c1746702",
   "metadata": {},
   "outputs": [
    {
     "data": {
      "text/plain": [
       "[{'name': 'a10VirtualServerConfiguration',\n",
       "  'description': 'Returns Virtual Server configuration of A10 devices.\\n\\nLists all the virtual-server to service-group to server mappings in A10 configurations.',\n",
       "  'tags': ['configuration', 'vip']},\n",
       " {'name': 'aaaAuthenticationLogin',\n",
       "  'description': 'Returns nodes that do not require authentication on all virtual terminal lines.\\n\\nLists all nodes in the network for which there is a virtual terminal line that does not require authentication.',\n",
       "  'tags': ['hygiene']},\n",
       " {'name': 'bgpEdges',\n",
       "  'description': 'Returns BGP adjacencies.\\n\\nLists all BGP adjacencies in the network.',\n",
       "  'tags': ['bgp', 'topology']},\n",
       " {'name': 'bgpPeerConfiguration',\n",
       "  'description': 'Returns configuration settings for BGP peerings.\\n\\nReports configuration settings for each configured BGP peering on each node in the network. This question reports peer-specific settings. Settings that are process-wide are reported by the bgpProcessConfiguration question.',\n",
       "  'tags': ['bgp', 'configuration']},\n",
       " {'name': 'bgpProcessConfiguration',\n",
       "  'description': 'Returns configuration settings of BGP processes.\\n\\nReports configuration settings for each BGP process on each node and VRF in the network. This question reports only process-wide settings. Peer-specific settings are reported by the bgpPeerConfiguration question.',\n",
       "  'tags': ['bgp', 'configuration']},\n",
       " {'name': 'bgpRib',\n",
       "  'description': 'Returns routes in the BGP RIB.\\n\\nShows BGP routes for specified VRF and node(s). This question is not available in Batfish containers on dockerhub prior to March 29, 2021.',\n",
       "  'tags': ['dataplane', 'routing']},\n",
       " {'name': 'bgpSessionCompatibility',\n",
       "  'description': \"Returns the compatibility of configured BGP sessions.\\n\\nChecks the settings of each configured BGP peering and reports any issue with those settings locally or incompatiblity with its remote counterparts. Each row represents one configured BGP peering on a node and contains information about the session it is meant to establish. For dynamic peers, there is one row per compatible remote peer. Statuses that indicate an independently misconfigured peerings include NO_LOCAL_AS, NO_REMOTE_AS, NO_LOCAL_IP (for eBGP single-hop peerings), LOCAL_IP_UNKNOWN_STATICALLY (for iBGP or eBGP multi-hop peerings), NO_REMOTE_IP (for point-to-point peerings), and NO_REMOTE_PREFIX (for dynamic peerings). INVALID_LOCAL_IP indicates that the peering's configured local IP does not belong to any active interface on the node; UNKNOWN_REMOTE indicates that the configured remote IP is not present in the network. A locally valid point-to-point peering is deemed HALF_OPEN if it has no compatible remote peers, UNIQUE_MATCH if it has exactly one compatible remote peer, or MULTIPLE_REMOTES if it has multiple compatible remote peers. A locally valid dynamic peering is deemed NO_MATCH_FOUND if it has no compatible remote peers, or DYNAMIC_MATCH if it has at least one compatible remote peer.\",\n",
       "  'tags': ['bgp', 'status']},\n",
       " {'name': 'bgpSessionStatus',\n",
       "  'description': 'Returns the dynamic status of configured BGP sessions.\\n\\nChecks whether configured BGP peerings can be established. Each row represents one configured BGP peering and contains information about the session it is configured to establish. For dynamic peerings, one row is shown per compatible remote peer. Possible statuses for each session are NOT_COMPATIBLE, ESTABLISHED, and NOT_ESTABLISHED. NOT_COMPATIBLE sessions are those where one or both peers are misconfigured; the BgpSessionCompatibility question provides further insight into the nature of the configuration error. NOT_ESTABLISHED sessions are those that are configured compatibly but will not come up because peers cannot reach each other (e.g., due to being blocked by an ACL). ESTABLISHED sessions are those that are compatible and are expected to come up.',\n",
       "  'tags': ['bgp', 'dataplane', 'status']},\n",
       " {'name': 'bidirectionalReachability',\n",
       "  'description': 'Searches for successfully delivered flows that can successfully receive a response.\\n\\nPerforms two reachability analyses, first originating from specified sources, then returning back to those sources. After the first (forward) pass, sets up sessions in the network and creates returning flows for each successfully delivered forward flow. The second pass searches for return flows that can be successfully delivered in the presence of the setup sessions.',\n",
       "  'tags': ['dataplane', 'reachability']},\n",
       " {'name': 'bidirectionalTraceroute',\n",
       "  'description': 'Traces the path(s) for the specified flow, along with path(s) for reverse flows.\\n\\nThis question performs a virtual traceroute in the network from a starting node. A destination IP and ingress (source) node must be specified. Other IP headers are given default values if unspecified.\\nIf the trace succeeds, a traceroute is performed in the reverse direction.',\n",
       "  'tags': ['dataplane', 'traceroute']},\n",
       " {'name': 'compareFilters',\n",
       "  'description': 'Compares filters with the same name in the current and reference snapshots. Returns pairs of lines, one from each filter, that match the same flow(s) but treat them differently (i.e. one permits and the other denies the flow).\\n\\nThis question can be used to summarize how a filter has changed over time. In particular, it highlights differences that cause flows to be denied when they used to be permitted, or vice versa. The output is a table that includes pairs of lines, one from each version of the filter, that both match at least one common flow, and have different action (permit or deny). This is a differential question and the reference snapshot to compare against must be provided in the call to answer().',\n",
       "  'tags': ['acl', 'dataplane', 'differential']},\n",
       " {'name': 'definedStructures',\n",
       "  'description': 'Lists the structures defined in the network.\\n\\nLists the structures defined in the network, along with the files and line numbers in which they are defined.',\n",
       "  'tags': ['configuration']},\n",
       " {'name': 'detectLoops',\n",
       "  'description': 'Detects forwarding loops.\\n\\nSearches across all possible flows in the network and returns example flows that will experience forwarding loops.',\n",
       "  'tags': ['dataplane', 'reachability']},\n",
       " {'name': 'differentialReachability',\n",
       "  'description': 'Returns flows that are successful in one snapshot but not in another.\\n\\nSearches across all possible flows in the network, with the specified header and path constraints, and returns example flows that are successful in one snapshot and not the other. This is a differential question and the reference snapshot to compare against must be provided in the call to answer().',\n",
       "  'tags': ['dataplane', 'differential', 'reachability']},\n",
       " {'name': 'edges',\n",
       "  'description': 'Returns different types of network adjacencies in a snapshot.\\n\\nLists network adjacencies of different types (e.g., Layer 3, BGP, OSPF) in the form of edges. This question is deprecated in favor of specific edges question such as bgpEdges and layer3Edges.',\n",
       "  'tags': ['topology']},\n",
       " {'name': 'eigrpEdges',\n",
       "  'description': 'Returns EIGRP adjacencies.\\n\\nLists all EIGRP adjacencies in the network.',\n",
       "  'tags': ['eigrp', 'topology']},\n",
       " {'name': 'evpnL3VniProperties',\n",
       "  'description': 'Returns configuration settings of VXLANs.\\n\\nLists VNI-level network segment settings configured for VXLANs.',\n",
       "  'tags': ['configuration', 'evpn', 'vxlan']},\n",
       " {'name': 'evpnRib',\n",
       "  'description': 'Returns routes in the EVPN RIB.\\n\\nShows EVPN routes for specified VRF and node(s). This question is not available in Batfish containers on dockerhub prior to March 29, 2021.',\n",
       "  'tags': ['dataplane', 'routing']},\n",
       " {'name': 'f5BigipVipConfiguration',\n",
       "  'description': 'Returns VIP configuration of F5 BIG-IP devices.\\n\\nLists all the VIP to server IP mappings contained in F5 BIP-IP configurations.',\n",
       "  'tags': ['configuration', 'vip']},\n",
       " {'name': 'fileParseStatus',\n",
       "  'description': 'Displays file parse status.\\n\\nFor each file in a snapshot, returns the host(s) that were produced by the file and the parse status: pass, fail, partially parsed.',\n",
       "  'tags': ['initialization']},\n",
       " {'name': 'filterLineReachability',\n",
       "  'description': 'Returns unreachable lines in filters (ACLs and firewall rules).\\n\\nFinds all lines in the specified filters that will not match any packet, either because of being shadowed by prior lines or because of its match condition being empty.',\n",
       "  'tags': ['acl']},\n",
       " {'name': 'filterTable',\n",
       "  'description': 'Returns subset of answer for a question.\\n\\nReturn a subset of the answer generated by the inner question. The results are trimmed first by row and then by column. Rows where any value matches the filter are returned. The columns returned for each row is restricted by the column specifier.',\n",
       "  'tags': ['other']},\n",
       " {'name': 'findMatchingFilterLines',\n",
       "  'description': 'Returns lines in filters (ACLs and firewall rules) that match any packet within the specified header constraints.\\n\\nFinds all lines in the specified filters that match any packet within the specified header constraints.',\n",
       "  'tags': ['acl']},\n",
       " {'name': 'initIssues',\n",
       "  'description': 'Returns issues encountered when processing the snapshot.\\n\\nReports issues encountered by Batfish, including failure to recognize certain lines in the configuration, lack of support for certain features, and errors when converting to vendor-independent models.',\n",
       "  'tags': ['initialization']},\n",
       " {'name': 'interfaceMtu',\n",
       "  'description': \"Finds interfaces where the configured MTU matches the specified comparator and mtuBytes.\\n\\nFor example, if comparator is '<' and mtuBytes is 1500, then only interfaces where the configured MTU is less than 1500 bytes will be returned.\",\n",
       "  'tags': ['hygiene']},\n",
       " {'name': 'interfaceProperties',\n",
       "  'description': 'Returns configuration settings of interfaces.\\n\\nLists interface-level settings of interfaces. Settings for routing protocols, VRFs, and zones etc. that are attached to interfaces are available via other questions.',\n",
       "  'tags': ['configuration']},\n",
       " {'name': 'ipOwners',\n",
       "  'description': 'Returns where IP addresses are attached in the network.\\n\\nFor each device, lists the mapping from IPs to corresponding interface(s) and VRF(s).',\n",
       "  'tags': ['configuration']},\n",
       " {'name': 'ipsecEdges',\n",
       "  'description': 'Returns IPSec tunnels.\\n\\nLists all IPSec tunnels in the network.',\n",
       "  'tags': ['ipsec', 'topology']},\n",
       " {'name': 'ipsecSessionStatus',\n",
       "  'description': 'Returns the status of configured IPSec sessions.\\n\\nShows configuration settings and status for each configured IPSec tunnel in the network. The status is IPSEC_SESSION_ESTABLISHED for tunnels that are expected to be established; it is IKE_PHASE1_FAILED if IKE parameters negotiation failed; it is IKE_PHASE1_KEY_MISMATCH if IKE negotiation was successful but IKE keys do not match; it is IPSEC_PHASE2_FAILED if negotiation of IPsec parameters failed; and it is MISSING_END_POINT if the remote endpoint for a configured IPsec tunnel could not be found in the network.',\n",
       "  'tags': ['ipsec', 'status']},\n",
       " {'name': 'isisEdges',\n",
       "  'description': 'Returns ISIS adjacencies.\\n\\nLists all ISIS adjacencies in the network.',\n",
       "  'tags': ['isis', 'topology']},\n",
       " {'name': 'layer1Edges',\n",
       "  'description': 'Returns Layer 1 links.\\n\\nLists all Layer 1 links in the network.',\n",
       "  'tags': ['topology']},\n",
       " {'name': 'layer3Edges',\n",
       "  'description': 'Returns Layer 3 links.\\n\\nLists all Layer 3 edges in the network.',\n",
       "  'tags': ['topology']},\n",
       " {'name': 'loopbackMultipathConsistency',\n",
       "  'description': 'Validates multipath consistency between all pairs of loopbacks.\\n\\nFinds flows between loopbacks that are treated differently (i.e., dropped versus forwarded) by different paths in the presence of multipath routing.',\n",
       "  'tags': ['dataplane', 'reachability']},\n",
       " {'name': 'lpmRoutes',\n",
       "  'description': 'Returns routes that are longest prefix match for a given IP address.\\n\\nReturn longest prefix match routes for a given IP in the RIBs of specified nodes and VRFs.',\n",
       "  'tags': ['dataplane', 'routing']},\n",
       " {'name': 'mlagProperties',\n",
       "  'description': 'Returns MLAG configuration.\\n\\nLists the configuration settings for each MLAG domain in the network.',\n",
       "  'tags': ['configuration', 'mlag']},\n",
       " {'name': 'multipathConsistency',\n",
       "  'description': 'Validates multipath consistency.\\n\\nSearches across all flows in the network and returns example flows that are treated differently (i.e., dropped versus forwarded) by different paths in the presence of multipath routing.',\n",
       "  'tags': ['dataplane', 'reachability']},\n",
       " {'name': 'namedStructures',\n",
       "  'description': 'Returns named structure definitions.\\n\\nReturn structures defined in the configurations, represented in a vendor-independent JSON format.',\n",
       "  'tags': ['configuration']},\n",
       " {'name': 'nodeProperties',\n",
       "  'description': 'Returns configuration settings of nodes.\\n\\nLists global settings of devices in the network. Settings that are specific to interfaces, routing protocols, etc. are available via other questions.',\n",
       "  'tags': ['configuration']},\n",
       " {'name': 'ospfAreaConfiguration',\n",
       "  'description': 'Returns configuration parameters of OSPF areas.\\n\\nReturns information about all OSPF areas defined across the network.',\n",
       "  'tags': ['configuration', 'ospf']},\n",
       " {'name': 'ospfEdges',\n",
       "  'description': 'Returns OSPF adjacencies.\\n\\nLists all OSPF adjacencies in the network.',\n",
       "  'tags': ['ospf', 'topology']},\n",
       " {'name': 'ospfInterfaceConfiguration',\n",
       "  'description': 'Returns OSPF configuration of interfaces.\\n\\nReturns the interface level OSPF configuration details for the interfaces in the network which run OSPF.',\n",
       "  'tags': ['configuration', 'ospf']},\n",
       " {'name': 'ospfProcessConfiguration',\n",
       "  'description': 'Returns configuration parameters for OSPF routing processes.\\n\\nReturns the values of important properties for all OSPF processes running across the network.',\n",
       "  'tags': ['configuration', 'ospf']},\n",
       " {'name': 'ospfSessionCompatibility',\n",
       "  'description': 'Returns compatible OSPF sessions.\\n\\nReturns compatible OSPF sessions in the network. A session is compatible if the interfaces involved are not shutdown and do run OSPF, are not OSPF passive and are associated with the same OSPF area.',\n",
       "  'tags': ['dataplane', 'ospf', 'status']},\n",
       " {'name': 'parseWarning',\n",
       "  'description': 'Returns warnings that occurred when parsing the snapshot.\\n\\nReturn warnings such as failure to recognize certain lines and lack of support for certain features.',\n",
       "  'tags': ['initialization']},\n",
       " {'name': 'prefixTracer',\n",
       "  'description': 'Traces prefix propagation through the network.\\n\\nShows how prefixes are treated by devices in the network during routing.',\n",
       "  'tags': ['dataplane', 'routing']},\n",
       " {'name': 'reachability',\n",
       "  'description': 'Finds flows that match the specified path and header space conditions.\\n\\nSearches across all flows that match the specified conditions and returns examples of such flows. This question can be used to ensure that certain services are globally accessible and parts of the network are perfectly isolated from each other.',\n",
       "  'tags': ['dataplane', 'reachability']},\n",
       " {'name': 'referencedStructures',\n",
       "  'description': 'Lists the references in configuration files to vendor-specific structures.\\n\\nLists the references in configuration files to vendor-specific structures, along with the line number, the name and the type of the structure referenced, and configuration context in which each reference occurs.',\n",
       "  'tags': ['configuration']},\n",
       " {'name': 'resolveFilterSpecifier',\n",
       "  'description': 'Returns the set of filters corresponding to a filterSpec value.\\n\\nHelper question that shows how specified filterSpec values resolve to the filters in the network.',\n",
       "  'tags': ['specifiers']},\n",
       " {'name': 'resolveInterfaceSpecifier',\n",
       "  'description': 'Returns the set of interfaces corresponding to an interfaceSpec value.\\n\\nHelper question that shows how specified interfaceSpec values resolve to the interfaces in the network.',\n",
       "  'tags': ['specifiers']},\n",
       " {'name': 'resolveIpSpecifier',\n",
       "  'description': 'Returns the IP address space corresponding to an ipSpec value.\\n\\nHelper question that shows how specified ipSpec values resolve to IPs.',\n",
       "  'tags': ['specifiers']},\n",
       " {'name': 'resolveIpsOfLocationSpecifier',\n",
       "  'description': 'Returns IPs that are auto-assigned to locations.\\n\\nHelper question that shows IPs that will be assigned to specified locationSpec values by questions are automatically pick IPs based on locations.',\n",
       "  'tags': ['specifiers']},\n",
       " {'name': 'resolveLocationSpecifier',\n",
       "  'description': 'Returns the set of locations corresponding to a locationSpec value.\\n\\nHelper question that shows how specified locationSpec values resolve to the locations in the network.',\n",
       "  'tags': ['specifiers']},\n",
       " {'name': 'resolveNodeSpecifier',\n",
       "  'description': 'Returns the set of nodes corresponding to a nodeSpec value.\\n\\nHelper question that shows how specified nodeSpec values resolve to the nodes in the network.',\n",
       "  'tags': ['specifiers']},\n",
       " {'name': 'routes',\n",
       "  'description': 'Returns routing tables.\\n\\nShows routes for specified RIB, VRF, and node(s).',\n",
       "  'tags': ['dataplane', 'routing']},\n",
       " {'name': 'searchFilters',\n",
       "  'description': 'Finds flows for which a filter takes a particular behavior.\\n\\nThis question searches for flows for which a filter (access control list) has a particular behavior. The behaviors can be: that the filter permits the flow (`permit`), that it denies the flow (`deny`), or that the flow is matched by a particular line (`matchLine <lineNumber>`). Filters are selected using node and filter specifiers, which might match multiple filters. In this case, a (possibly different) flow will be found for each filter.',\n",
       "  'tags': ['acl']},\n",
       " {'name': 'searchRoutePolicies',\n",
       "  'description': 'Finds route announcements for which a route policy has a particular behavior.\\n\\nThis question finds route announcements for which a route policy has a particular behavior. The behaviors can be: that the policy permits the route (`permit`) or that it denies the route (`deny`). Constraints can be imposed on the input route announcements of interest and, in the case of a `permit` action, also on the output route announcements of interest. Route policies are selected using node and policy specifiers, which might match multiple policies. In this case, a (possibly different) answer will be found for each policy. This question currently supports common forms of matching on prefixes, communities, and AS-paths, as well as common forms of setting communities, the local preference, and the metric. It does not support other routing policy constructs. The question throws an exception if a route policy uses an unsupported construct.',\n",
       "  'tags': ['routing']},\n",
       " {'name': 'subnetMultipathConsistency',\n",
       "  'description': 'Validates multipath consistency between all pairs of subnets.\\n\\nSearches across all flows between subnets that are treated differently (i.e., dropped versus forwarded) by different paths in the network and returns example flows.',\n",
       "  'tags': ['dataplane', 'reachability']},\n",
       " {'name': 'switchedVlanProperties',\n",
       "  'description': 'Returns configuration settings of switched VLANs.\\n\\nLists information about implicitly and explicitly configured switched VLANs.',\n",
       "  'tags': ['configuration', 'vlan']},\n",
       " {'name': 'testFilters',\n",
       "  'description': 'Returns how a flow is processed by a filter (ACLs, firewall rules).\\n\\nShows how the specified flow is processed through the specified filters, returning its permit/deny status as well as the line(s) it matched.',\n",
       "  'tags': ['acl']},\n",
       " {'name': 'testRoutePolicies',\n",
       "  'description': 'Evaluates the processing of a route by a given policy.\\n\\nFind how the specified route is processed through the specified routing policies.',\n",
       "  'tags': ['routing']},\n",
       " {'name': 'traceroute',\n",
       "  'description': 'Traces the path(s) for the specified flow.\\n\\nPerforms a virtual traceroute in the network from a starting node. A destination IP and ingress (source) node must be specified. Other IP headers are given default values if unspecified.\\nUnlike a real traceroute, this traceroute is directional. That is, for it to succeed, the reverse connectivity is not needed. This feature can help debug connectivity issues by decoupling the two directions.',\n",
       "  'tags': ['dataplane', 'traceroute']},\n",
       " {'name': 'undefinedReferences',\n",
       "  'description': 'Identifies undefined references in configuration.\\n\\nFinds configurations that have references to named structures (e.g., ACLs) that are not defined. Such occurrences indicate errors and can have serious consequences in some cases.',\n",
       "  'tags': ['hygiene']},\n",
       " {'name': 'unusedStructures',\n",
       "  'description': 'Returns nodes with structures such as ACLs, routemaps, etc. that are defined but not used.\\n\\nReturn nodes with structures such as ACLs, routes, etc. that are defined but not used. This may represent a bug in the configuration, which may have occurred because a final step in a template or MOP was not completed. Or it could be harmless extra configuration generated from a master template that is not meant to be used on those nodes.',\n",
       "  'tags': ['hygiene']},\n",
       " {'name': 'viConversionStatus',\n",
       "  'description': 'Displays vendor independent conversion status.\\n\\nFor each node in a snapshot, returns the vendor independent conversion status: pass, fail, converted with warnings.',\n",
       "  'tags': ['initialization']},\n",
       " {'name': 'viConversionWarning',\n",
       "  'description': 'Returns Batfish warnings that occurred when converting to vendor independent model.\\n\\nWhen converting configurations to a vendor independent model Batfish may generate warnings for unsupported features and for unexpected configurations (e.g., missing definitions). This question lists those warnings.',\n",
       "  'tags': ['initialization']},\n",
       " {'name': 'viModel',\n",
       "  'description': 'Lists configuration attributes of nodes and edges in the network.\\n\\nReturns a JSON dictionary with all of the configuration parameters and neighbor relations stored in the vendor independent data-model.',\n",
       "  'tags': ['configuration']},\n",
       " {'name': 'vrrpProperties',\n",
       "  'description': 'Returns configuration settings of VRRP groups.\\n\\nLists information about VRRP groups on interfaces.',\n",
       "  'tags': ['configuration', 'vrrp']},\n",
       " {'name': 'vxlanEdges',\n",
       "  'description': 'Returns VXLAN edges.\\n\\nLists all VXLAN edges in the network.',\n",
       "  'tags': ['topology', 'vxlan']},\n",
       " {'name': 'vxlanVniProperties',\n",
       "  'description': 'Returns configuration settings of VXLANs.\\n\\nLists VNI-level network segment settings configured for VXLANs.',\n",
       "  'tags': ['configuration', 'vxlan']}]"
      ]
     },
     "execution_count": 3,
     "metadata": {},
     "output_type": "execute_result"
    }
   ],
   "source": [
    "list_questions()"
   ]
  },
  {
   "cell_type": "code",
   "execution_count": 4,
   "id": "eee67c45",
   "metadata": {},
   "outputs": [],
   "source": [
    "NETWORK_NAME = \"example_network\"\n",
    "SNAPSHOT_NAME = \"example_snapshot\"\n",
    "\n",
    "SNAPSHOT_PATH = \"C:\\\\Users\\\\Tushar\\\\Documents\\\\Nivi_Batfish\\\\batfish\\\\networks\\\\hybrid-cloud-aws\\\\\"\n"
   ]
  },
  {
   "cell_type": "code",
   "execution_count": null,
   "id": "cc6af48f",
   "metadata": {},
   "outputs": [],
   "source": [
    "bf_set_network(NETWORK_NAME)\n",
    "bf_init_snapshot(SNAPSHOT_PATH, name=SNAPSHOT_NAME, overwrite=True)"
   ]
  },
  {
   "cell_type": "code",
   "execution_count": 12,
   "id": "3a7e2156",
   "metadata": {},
   "outputs": [
    {
     "data": {
      "text/html": [
       "<div>\n",
       "<style scoped>\n",
       "    .dataframe tbody tr th:only-of-type {\n",
       "        vertical-align: middle;\n",
       "    }\n",
       "\n",
       "    .dataframe tbody tr th {\n",
       "        vertical-align: top;\n",
       "    }\n",
       "\n",
       "    .dataframe thead th {\n",
       "        text-align: right;\n",
       "    }\n",
       "</style>\n",
       "<table border=\"1\" class=\"dataframe tex2jax_ignore\">\n",
       "  <thead>\n",
       "    <tr style=\"text-align: right;\">\n",
       "      <th></th>\n",
       "      <th>File_Name</th>\n",
       "      <th>Status</th>\n",
       "      <th>File_Format</th>\n",
       "      <th>Nodes</th>\n",
       "    </tr>\n",
       "  </thead>\n",
       "  <tbody>\n",
       "  </tbody>\n",
       "</table>\n",
       "</div>"
      ],
      "text/plain": [
       "Empty DataFrame\n",
       "Columns: [File_Name, Status, File_Format, Nodes]\n",
       "Index: []"
      ]
     },
     "execution_count": 12,
     "metadata": {},
     "output_type": "execute_result"
    }
   ],
   "source": [
    "parse_status = bfq.fileParseStatus().answer().frame()\n",
    "# View the parse status results\n",
    "parse_status"
   ]
  },
  {
   "cell_type": "code",
   "execution_count": 4,
   "id": "289e0115",
   "metadata": {},
   "outputs": [
    {
     "ename": "AttributeError",
     "evalue": "module 'pybatfish.question.bfq' has no attribute 'parseWarning'",
     "output_type": "error",
     "traceback": [
      "\u001b[1;31m---------------------------------------------------------------------------\u001b[0m",
      "\u001b[1;31mAttributeError\u001b[0m                            Traceback (most recent call last)",
      "Input \u001b[1;32mIn [4]\u001b[0m, in \u001b[0;36m<module>\u001b[1;34m\u001b[0m\n\u001b[1;32m----> 1\u001b[0m parse_warning \u001b[38;5;241m=\u001b[39m \u001b[43mbfq\u001b[49m\u001b[38;5;241;43m.\u001b[39;49m\u001b[43mparseWarning\u001b[49m()\u001b[38;5;241m.\u001b[39manswer()\u001b[38;5;241m.\u001b[39mframe()\n\u001b[0;32m      3\u001b[0m parse_warning\n",
      "\u001b[1;31mAttributeError\u001b[0m: module 'pybatfish.question.bfq' has no attribute 'parseWarning'"
     ]
    }
   ],
   "source": [
    "parse_warning = bfq.parseWarning().answer().frame()\n",
    "\n",
    "parse_warning"
   ]
  },
  {
   "cell_type": "code",
   "execution_count": 7,
   "id": "058283a3",
   "metadata": {},
   "outputs": [
    {
     "data": {
      "text/html": [
       "<div>\n",
       "<style scoped>\n",
       "    .dataframe tbody tr th:only-of-type {\n",
       "        vertical-align: middle;\n",
       "    }\n",
       "\n",
       "    .dataframe tbody tr th {\n",
       "        vertical-align: top;\n",
       "    }\n",
       "\n",
       "    .dataframe thead th {\n",
       "        text-align: right;\n",
       "    }\n",
       "</style>\n",
       "<table border=\"1\" class=\"dataframe tex2jax_ignore\">\n",
       "  <thead>\n",
       "    <tr style=\"text-align: right;\">\n",
       "      <th></th>\n",
       "      <th>Nodes</th>\n",
       "      <th>Source_Lines</th>\n",
       "      <th>Type</th>\n",
       "      <th>Details</th>\n",
       "      <th>Line_Text</th>\n",
       "      <th>Parser_Context</th>\n",
       "    </tr>\n",
       "  </thead>\n",
       "  <tbody>\n",
       "  </tbody>\n",
       "</table>\n",
       "</div>"
      ],
      "text/plain": [
       "Empty DataFrame\n",
       "Columns: [Nodes, Source_Lines, Type, Details, Line_Text, Parser_Context]\n",
       "Index: []"
      ]
     },
     "execution_count": 7,
     "metadata": {},
     "output_type": "execute_result"
    }
   ],
   "source": [
    "result=bfq.initIssues().answer().frame()\n",
    "result.head(2)"
   ]
  },
  {
   "cell_type": "code",
   "execution_count": 8,
   "id": "478e33d8",
   "metadata": {},
   "outputs": [
    {
     "data": {
      "text/plain": [
       "<module 'pybatfish.question.bfq' from 'C:\\\\Python39\\\\lib\\\\site-packages\\\\pybatfish\\\\question\\\\bfq.py'>"
      ]
     },
     "execution_count": 8,
     "metadata": {},
     "output_type": "execute_result"
    }
   ],
   "source": []
  },
  {
   "cell_type": "code",
   "execution_count": 13,
   "id": "b2f1b567",
   "metadata": {},
   "outputs": [
    {
     "ename": "ValueError",
     "evalue": "reference_snapshot argument is required to answer a differential question",
     "output_type": "error",
     "traceback": [
      "\u001b[1;31m---------------------------------------------------------------------------\u001b[0m",
      "\u001b[1;31mValueError\u001b[0m                                Traceback (most recent call last)",
      "Input \u001b[1;32mIn [13]\u001b[0m, in \u001b[0;36m<module>\u001b[1;34m\u001b[0m\n\u001b[1;32m----> 1\u001b[0m \u001b[43mbfq\u001b[49m\u001b[38;5;241;43m.\u001b[39;49m\u001b[43mcompareFilters\u001b[49m\u001b[43m(\u001b[49m\u001b[43m)\u001b[49m\u001b[38;5;241;43m.\u001b[39;49m\u001b[43manswer\u001b[49m\u001b[43m(\u001b[49m\u001b[43m)\u001b[49m\n",
      "File \u001b[1;32mC:\\Python39\\lib\\site-packages\\pybatfish\\question\\question.py:186\u001b[0m, in \u001b[0;36mQuestionBase.answer\u001b[1;34m(self, snapshot, reference_snapshot, include_one_table_keys, background, extra_args)\u001b[0m\n\u001b[0;32m    184\u001b[0m real_snapshot \u001b[38;5;241m=\u001b[39m session\u001b[38;5;241m.\u001b[39mget_snapshot(snapshot)\n\u001b[0;32m    185\u001b[0m \u001b[38;5;28;01mif\u001b[39;00m reference_snapshot \u001b[38;5;129;01mis\u001b[39;00m \u001b[38;5;28;01mNone\u001b[39;00m \u001b[38;5;129;01mand\u001b[39;00m \u001b[38;5;28mself\u001b[39m\u001b[38;5;241m.\u001b[39mget_differential():\n\u001b[1;32m--> 186\u001b[0m     \u001b[38;5;28;01mraise\u001b[39;00m \u001b[38;5;167;01mValueError\u001b[39;00m(\n\u001b[0;32m    187\u001b[0m         \u001b[38;5;124m\"\u001b[39m\u001b[38;5;124mreference_snapshot argument is required to answer a differential question\u001b[39m\u001b[38;5;124m\"\u001b[39m\n\u001b[0;32m    188\u001b[0m     )\n\u001b[0;32m    189\u001b[0m _validate(\u001b[38;5;28mself\u001b[39m\u001b[38;5;241m.\u001b[39mdict())\n\u001b[0;32m    190\u001b[0m \u001b[38;5;28;01mif\u001b[39;00m include_one_table_keys \u001b[38;5;129;01mis\u001b[39;00m \u001b[38;5;129;01mnot\u001b[39;00m \u001b[38;5;28;01mNone\u001b[39;00m:\n",
      "\u001b[1;31mValueError\u001b[0m: reference_snapshot argument is required to answer a differential question"
     ]
    }
   ],
   "source": [
    "bfq.compareFilters().answer()"
   ]
  },
  {
   "cell_type": "code",
   "execution_count": 10,
   "id": "9c5c6dda",
   "metadata": {},
   "outputs": [
    {
     "ename": "AttributeError",
     "evalue": "module 'pybatfish.question.bfq' has no attribute 'q'",
     "output_type": "error",
     "traceback": [
      "\u001b[1;31m---------------------------------------------------------------------------\u001b[0m",
      "\u001b[1;31mAttributeError\u001b[0m                            Traceback (most recent call last)",
      "Input \u001b[1;32mIn [10]\u001b[0m, in \u001b[0;36m<module>\u001b[1;34m\u001b[0m\n\u001b[1;32m----> 1\u001b[0m \u001b[43mbfq\u001b[49m\u001b[38;5;241;43m.\u001b[39;49m\u001b[43mq\u001b[49m\n",
      "\u001b[1;31mAttributeError\u001b[0m: module 'pybatfish.question.bfq' has no attribute 'q'"
     ]
    }
   ],
   "source": [
    "bfq.q"
   ]
  },
  {
   "cell_type": "code",
   "execution_count": 14,
   "id": "6e93813f",
   "metadata": {},
   "outputs": [],
   "source": [
    "?bfq.nodeProperties"
   ]
  },
  {
   "cell_type": "code",
   "execution_count": null,
   "id": "cd0ec6ea",
   "metadata": {},
   "outputs": [],
   "source": []
  }
 ],
 "metadata": {
  "kernelspec": {
   "display_name": "Python 3 (ipykernel)",
   "language": "python",
   "name": "python3"
  },
  "language_info": {
   "codemirror_mode": {
    "name": "ipython",
    "version": 3
   },
   "file_extension": ".py",
   "mimetype": "text/x-python",
   "name": "python",
   "nbconvert_exporter": "python",
   "pygments_lexer": "ipython3",
   "version": "3.9.7"
  }
 },
 "nbformat": 4,
 "nbformat_minor": 5
}
